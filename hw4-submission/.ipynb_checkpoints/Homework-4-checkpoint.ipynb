{
 "cells": [
  {
   "cell_type": "markdown",
   "metadata": {},
   "source": [
    "(In order to load the stylesheet of this notebook, execute the last code cell in this notebook)"
   ]
  },
  {
   "cell_type": "markdown",
   "metadata": {},
   "source": [
    "# Recommender System for Amazon Electronics"
   ]
  },
  {
   "cell_type": "markdown",
   "metadata": {},
   "source": [
    "In this assignment, we will be working with the [Amazon dataset](http://cs-people.bu.edu/kzhao/teaching/amazon_reviews_Electronics.tar.gz). You will build a recommender system to make predictions related to reviews of Electronics products on Amazon.\n",
    "\n",
    "Your grades will be determined by your performance on the predictive tasks as well as a brief written report about the approaches you took.\n",
    "\n",
    "This assignment should be completed **individually**."
   ]
  },
  {
   "cell_type": "markdown",
   "metadata": {},
   "source": [
    "## Files"
   ]
  },
  {
   "cell_type": "markdown",
   "metadata": {},
   "source": [
    "**train.json** 1,000,000 reviews to be used for training. It is not necessary to use all reviews for training if doing so proves too computationally intensive. The fields in this file are:\n",
    "\n",
    "* **reviewerID** The ID of the reviewer. This is a hashed user identifier from Amazon.\n",
    "\n",
    "* **asin** The ID of the item. This is a hashed product identifier from Amazon.\n",
    "\n",
    "* **overall** The rating of reviewer gave the item.\n",
    "\n",
    "* **helpful** The helpfulness votes for the review. This has 2 subfields, 'nHelpful' and 'outOf'. The latter is the total number of votes this review received. The former is the number of those that considered the review to be helpful.\n",
    "\n",
    "* **reviewText** The text of the review.\n",
    "\n",
    "* **summary** The summary of the review.\n",
    "\n",
    "* **unixReviewTime** The time of the review in seconds since 1970."
   ]
  },
  {
   "cell_type": "markdown",
   "metadata": {},
   "source": [
    "**meta.json** Contains metadata of the items:\n",
    "\n",
    "* **asin** The ID of the item.\n",
    "\n",
    "* **categories** The category labels of the item being reviewed.\n",
    "\n",
    "* **price** The price of the item.\n",
    "\n",
    "* **brand** The brand of the item."
   ]
  },
  {
   "cell_type": "markdown",
   "metadata": {},
   "source": [
    "**pairs_Rating.txt** The pairs (reviewerID and asin) on which you are to predict ratings.\n",
    "\n",
    "**pairs_Purchase.txt** The pairs on which you are to predict whether a user purchased an item or not.\n",
    "\n",
    "**pairs_Helpful.txt** The pairs on which you are to predict helpfulness votes. A third column in this file is the total number of votes from which you should predict how many were helpful."
   ]
  },
  {
   "cell_type": "markdown",
   "metadata": {},
   "source": [
    "**helpful.json** The review data associated with the helpfulness prediction test set. The 'nHelpful' field has been removed from this data since that is the value you need to predict above. This data will only be of use for the helpfulness prediction task."
   ]
  },
  {
   "cell_type": "markdown",
   "metadata": {},
   "source": [
    "**baseline.py** A simple baseline for each task."
   ]
  },
  {
   "cell_type": "markdown",
   "metadata": {
    "collapsed": true
   },
   "source": [
    "## Tasks"
   ]
  },
  {
   "cell_type": "markdown",
   "metadata": {},
   "source": [
    "**Rating prediction** Predict people's star ratings as accurately as possible for those (reviewerID, asin) pairs in 'pairs_Rating.txt'. Accuracy will be measured in terms of the [root mean-squared error (RMSE)](http://www.kaggle.com/wiki/RootMeanSquaredError).\n",
    "\n",
    "**Purchase prediction** Predict given a (reviewerID, asin) pair from 'pairs_Purchase.txt' whether the user purchased the item (really, whether it was one of the items they reviewed). Accuracy will be measured in terms of the [categorization accuracy](http://www.kaggle.com/wiki/HammingLoss) (1 minus the Hamming loss).\n",
    "\n",
    "**Helpfulness prediction** Predic whether a user's review of an item will be considered helpful. The file 'pairs_Helpful.txt' contains (reviewerID, asin) pairs with a third column containing the number of votes the user's review of the item received. You must predict how many of them were helpful. Accuracy will be measured in terms of the total [absolute error](http://www.kaggle.com/wiki/AbsoluteError), i.e. you are penalized one according to the difference |nHelpful - prediction|, where 'nHelpful' is the number of helpful votes the review actually received, and 'prediction' is your prediction of this quantity.\n",
    "\n",
    "We set up competitions on Kaggle to keep track of your results compared to those of other members of the class. The leaderboard will show your results on half of the test data, but your ultimate score will depend on your predictions across the whole dataset.\n",
    "* Kaggle competition: [rating prediction](https://inclass.kaggle.com/c/cs591-hw3-rating-prediction3) click here to [join](https://kaggle.com/join/datascience16rating)\n",
    "* Kaggle competition: [purchase prediction](https://inclass.kaggle.com/c/cs591-hw3-purchase-prediction) click here to [join](https://kaggle.com/join/datascience16purchase)\n",
    "* Kaggle competition: [helpfulness prediction](https://inclass.kaggle.com/c/cs591-hw3-helpful-prediction) click here to [join](https://kaggle.com/join/datascience16helpful)"
   ]
  },
  {
   "cell_type": "code",
   "execution_count": 1,
   "metadata": {
    "collapsed": false
   },
   "outputs": [],
   "source": [
    "import requests\n",
    "import json\n",
    "import numpy as np\n",
    "from collections import defaultdict\n",
    "from scipy import linalg\n",
    "import statsmodels.api as sm\n",
    "import matplotlib.pyplot as plt\n",
    "\n",
    "def readJson(f):\n",
    "    for l in open(f):\n",
    "        yield eval(l)"
   ]
  },
  {
   "cell_type": "markdown",
   "metadata": {},
   "source": [
    "# Task 1"
   ]
  },
  {
   "cell_type": "code",
   "execution_count": null,
   "metadata": {
    "collapsed": false
   },
   "outputs": [],
   "source": [
    "predictions = open(\"predictions_Rating.txt\", 'w')\n",
    "\n",
    "itemRatings = defaultdict(dict)\n",
    "for l in readJson('amazon_reviews_Electronics/train.json'):\n",
    "    userId,itemId,rating = l['reviewerID'],l['asin'],l['overall']\n",
    "    itemRatings[itemId][userId] = rating\n",
    "    \n",
    "allRatings = []\n",
    "userRatings = defaultdict(dict)\n",
    "for l in readJson('amazon_reviews_Electronics/train.json'):\n",
    "    userId,itemId,rating = l['reviewerID'],l['asin'],l['overall']\n",
    "    allRatings.append(rating)\n",
    "    userRatings[userId][itemId] = rating  \n",
    "    \n",
    "globalAverage = (sum(allRatings) / len(allRatings)) \n",
    "\n",
    "userAverage = {}\n",
    "for u in userRatings.keys():\n",
    "    userAverage[u] = (sum(userRatings[u].values()) / len(userRatings[u]))\n",
    "    \n",
    "itemAverage = {}\n",
    "for i in itemRatings.keys():\n",
    "    if len(itemRatings[i]) == 0:\n",
    "        itemAverage[i] = globalAverage\n",
    "    else:\n",
    "        itemAverage[i] = (sum(itemRatings[i].values()) / len(itemRatings[i]))\n",
    "\n",
    "    \n",
    "userdensity = {}\n",
    "for user in userRatings.keys():\n",
    "    userdensity[user] = len(userRatings[user].keys())\n",
    "itemdensity = {}\n",
    "for item in itemRatings.keys():\n",
    "    itemdensity[item] = len(itemRatings[item].keys())\n",
    "\n",
    "for l in open(\"amazon_reviews_Electronics/pairs_Rating.txt\"):\n",
    "    if l.startswith(\"reviewerID\"):\n",
    "        #header\n",
    "        predictions.write(l)\n",
    "        continue\n",
    "    u,i = l.strip().split('-')\n",
    "    #play with the biases\n",
    "    if i in itemAverage:\n",
    "        this_item_average = itemAverage[i]\n",
    "    else:\n",
    "        this_item_average = globalAverage\n",
    "    if u in userAverage:\n",
    "        this_user_average = userAverage[u]\n",
    "    else:\n",
    "        this_user_average = globalAverage\n",
    "    this_item_bias = this_item_average - globalAverage\n",
    "    this_user_bias = this_user_average - globalAverage\n",
    "    \n",
    "    dodal = {}#takes into account all others that rated i, could add it to value as another factor\n",
    "    dod = []\n",
    "    b =0\n",
    "    for item_user in itemRatings[i].keys():\n",
    "        total_score = [0.0,0.0]\n",
    "        common_items = list(set(userRatings[u].keys()).intersection(userRatings[item_user].keys()))\n",
    "        if common_items != []: \n",
    "            for common_item in common_items:\n",
    "                score = float(itemRatings[common_item][u])-float(itemRatings[common_item][item_user])\n",
    "                total_score[0] = total_score[0] + score \n",
    "                total_score[1] = total_score[1] + 1\n",
    "                valueq = total_score[0]/total_score[1]\n",
    "                dod.append(valueq)\n",
    "            #valueq = total_score[0]/total_score[1]\n",
    "            #dodal[item_user] = userRatings[item_user][i]+valueq\n",
    "        else: #no common items\n",
    "            dod.append(userRatings[item_user][i])\n",
    "            #dodal[item_user] = userRatings[item_user][i]\n",
    "        b = b + 1\n",
    "    if len(dod) == 0.0:\n",
    "    #if len(dodal) == 0.0: #no one has reviewed item\n",
    "        val= this_user_average\n",
    "    else:\n",
    "        val = sum(dod)/len(dod)\n",
    "        #val = sum(dodal.values())/len(dodal.keys())  \n",
    "\n",
    "    if u in userdensity and i in itemdensity:\n",
    "        unum=userdensity[u]\n",
    "        inum=itemdensity[i]\n",
    "        #change\n",
    "        total = float(unum +inum)\n",
    "        #here\n",
    "        value = (unum/total)*this_user_average+(inum/total)*this_item_average\n",
    "        #print (value)\n",
    "        if value>5:\n",
    "            value = 5\n",
    "        if value<0:\n",
    "            value = 0\n",
    "        predictions.write(u + '-' + i + ',' + str(value*0.68+0.32*globalAverage) + '\\n')\n",
    "    elif i in itemRatings:\n",
    "        #here\n",
    "        predictions.write(u + '-' + i + ',' + str((this_item_average)*0.68+0.32*globalAverage) + '\\n')\n",
    "    elif u in userRatings:\n",
    "        #and here\n",
    "        predictions.write(u + '-' + i + ',' + str((this_user_average)*0.68+0.32*globalAverage) + '\\n')\n",
    "    else:\n",
    "        predictions.write(u + '-' + i + ',' + str(globalAverage) + '\\n')\n",
    "predictions.close()"
   ]
  },
  {
   "cell_type": "markdown",
   "metadata": {
    "collapsed": true
   },
   "source": [
    "# Task 2"
   ]
  },
  {
   "cell_type": "code",
   "execution_count": 110,
   "metadata": {
    "collapsed": false
   },
   "outputs": [
    {
     "name": "stdout",
     "output_type": "stream",
     "text": [
      "[(1961, '5fb4315f07cee12b0ce46334502b2a86d2daf9a6f6dcd640ea3a536559acfb8b'), (1469, '949939abbb7f1e3ac2b96a28aec87f7c9a69cb09e245cb55564ab19b351a0de2'), (1454, 'c69cf5219ae5bb27222337bc48e2b5e817beb600f56f9c0737ac49956b830c55'), (1230, '8b4e1f1147ca3d2543cf858fa938e02dc8bcdae2cfaf210764b9619900559369'), (1162, '83e320747e56f950ac84674f3efafc8cfcbc5ac03e8c724b48d28d0e20b825f1'), (1020, '122523fc4c45d12460951c05009823e09da946eaf74b33e4a3c24cfd20a22304'), (913, 'ea8882af7dd64b29968dc5855be9f5d52795e511416363c0eed4185020c86212'), (834, '9e0be75a56380864463a8eacc100052df02fd484e6e299d5a86d32ae91c72aab'), (819, '214beb5aea52e92fed323297958570e2b7bbb58a436c8695761692cbfb3f3601'), (749, 'ee7459063a0309cd28c2cc159c0e8826334194674633a70dd5f12d3c95f2a790')]\n"
     ]
    }
   ],
   "source": [
    "itemCount = defaultdict(int)\n",
    "userCount = defaultdict(int)\n",
    "totalPurchases = 0\n",
    "user = defaultdict(list)\n",
    "itms = defaultdict(list)\n",
    "for l in readJson('amazon_reviews_Electronics/train.json'):\n",
    "    item = l['asin']\n",
    "    us = l['reviewerID']\n",
    "    user[us].append(item)\n",
    "    itms[item].append(us)\n",
    "    itemCount[item] += 1\n",
    "    userCount[us] += 1\n",
    "    totalPurchases += 1\n",
    "\n",
    "mostPopular = [(itemCount[x], x) for x in itemCount]\n",
    "mostPopular = sorted(mostPopular, key=lambda l:l[0], reverse=True)\n",
    "#print(mostPopular[:10])\n",
    "mostPopularU = [(userCount[x], x) for x in userCount]\n",
    "mostPopularU = sorted(mostPopularU, key=lambda l:l[0], reverse=True)\n",
    "\n",
    "rateCount=defaultdict(int)\n",
    "for i in itemCount:\n",
    "    rateCount[i]=float(itemCount[i])/float(totalPurchases)"
   ]
  },
  {
   "cell_type": "code",
   "execution_count": 122,
   "metadata": {
    "collapsed": false
   },
   "outputs": [
    {
     "name": "stdout",
     "output_type": "stream",
     "text": [
      "173888\n",
      "509678\n",
      "items per user\n",
      "1.96202308124\n",
      "users per item\n",
      "5.75082811925\n"
     ]
    }
   ],
   "source": [
    "print(len(itms))\n",
    "print(len(user))\n",
    "#print(float(len(user))/float(len(itms)))\n",
    "\n",
    "uu = defaultdict(int)\n",
    "for us in user:\n",
    "    uu[us]=len(user[us])\n",
    "print('items per user')\n",
    "print(float(sum(uu.values()))/len(uu.keys()))    \n",
    "    \n",
    "ii = defaultdict(int)\n",
    "for it in itms:\n",
    "    ii[it]=len(itms[it])\n",
    "print('users per item')    \n",
    "print(float(sum(ii.values()))/len(ii.keys()))"
   ]
  },
  {
   "cell_type": "code",
   "execution_count": 100,
   "metadata": {
    "collapsed": false
   },
   "outputs": [],
   "source": [
    "icat = defaultdict(list)\n",
    "categories = defaultdict(list)\n",
    "k=0\n",
    "for l in readJson('amazon_reviews_Electronics/meta.json'):\n",
    "    k=k+1\n",
    "    item = l['asin']\n",
    "    cat = l['categories']\n",
    "    if cat.startswith(\"[['Electronics', '\"):\n",
    "        cat= cat[18:]\n",
    "        cat= cat[:len(cat)-3]\n",
    "        if '], [' in cat:\n",
    "            cat = cat.replace('], [', ', ')\n",
    "            cat= cat.split(\"', '\")\n",
    "            #print(cat)\n",
    "        else:\n",
    "            cat= cat.split(\"', '\")\n",
    "            #print(cat)\n",
    "        for c in cat:\n",
    "                categories[c].append(item)\n",
    "    if item not in icat:\n",
    "        icat[item]=l['categories']\n",
    "        if icat[item].startswith(\"[['Electronics', '\"):\n",
    "            icat[item]= icat[item][18:]\n",
    "            icat[item]= icat[item][:len(icat[item])-3]\n",
    "            if '], [' in icat[item]:\n",
    "                icat[item] = icat[item].replace('], [', ', ')\n",
    "                icat[item] = icat[item].split(\"', '\")\n",
    "                if 'Electronics' in icat[item]:\n",
    "                    icat[item].remove('Electronics')\n",
    "            else:\n",
    "                icat[item] = icat[item].split(\"', '\")\n",
    "                if 'Electronics' in icat[item]:\n",
    "                    icat[item].remove('Electronics')\n",
    "        else:\n",
    "            icat[item]= icat[item][3:]\n",
    "            icat[item]= icat[item][:len(icat[item])-3]\n",
    "            if '], [' in icat[item]:\n",
    "                icat[item] = icat[item].replace('], [', ', ')\n",
    "                icat[item] = icat[item].split(\"', '\")\n",
    "                if 'Electronics' in icat[item]:\n",
    "                    icat[item].remove('Electronics')\n",
    "            else:\n",
    "                icat[item] = icat[item].split(\"', '\")\n",
    "                if 'Electronics' in icat[item]:\n",
    "                    icat[item].remove('Electronics')\n",
    "\n",
    "ucat = defaultdict(dict)             \n",
    "for u in user:\n",
    "    for i in user[u]:\n",
    "        if i in icat:\n",
    "            for c in icat[i]:\n",
    "                if c in ucat[u]:\n",
    "                    ucat[u][c]=ucat[u][c]+1\n",
    "                else:\n",
    "                    ucat[u][c]=1\n",
    "                    \n",
    "            \n",
    "#need to do: 1get for each user the amount of times he purchases each category\n",
    "#            2get for each category, how many times was purchased in total\n",
    "#            3then take the categories of item in question.\n",
    "#            4get how many times on average a user has used a category. 2/numusersintrain\n",
    "#            5if amount of user>average then 1"
   ]
  },
  {
   "cell_type": "code",
   "execution_count": 109,
   "metadata": {
    "collapsed": false
   },
   "outputs": [],
   "source": [
    "cat ={}\n",
    "for item in itemCount:\n",
    "    for c in icat[item]:\n",
    "        if c in cat:\n",
    "            cat[c]=cat[c]+itemCount[item]\n",
    "        else:\n",
    "            cat[c]=itemCount[item]\n",
    "            \n",
    "catav = defaultdict(int)\n",
    "for c in cat:\n",
    "    catav[c]=float(cat[c])/1000000.0\n",
    "    "
   ]
  },
  {
   "cell_type": "code",
   "execution_count": null,
   "metadata": {
    "collapsed": true
   },
   "outputs": [],
   "source": [
    "return1 = set()\n",
    "count = 0\n",
    "for ic, i in mostPopular:\n",
    "    count += ic\n",
    "    return1.add(i)\n",
    "    if count > totalPurchases/1.6: break\n",
    "\n",
    "return2 = set()\n",
    "count = 0\n",
    "for ic, i in mostPopularU:\n",
    "    count += ic\n",
    "    return2.add(i)\n",
    "    if count > totalPurchases/125: break\n",
    "        \n",
    "predictions = open(\"predictions_Purchase.txt\", 'w')\n",
    "k=0\n",
    "n=0\n",
    "o=0\n",
    "for l in open(\"amazon_reviews_Electronics/pairs_Purchase.txt\"):\n",
    "    if l.startswith(\"reviewerID\"):\n",
    "        #header\n",
    "        predictions.write(l)\n",
    "        continue\n",
    "    u,i = l.strip().split('-')\n",
    "    numb=0\n",
    "    if i in return1:\n",
    "        predictions.write(u + '-' + i + \",1\\n\")\n",
    "    else:\n",
    "        predictions.write(u + '-' + i + \",0\\n\")\n",
    "\n",
    "print(k)  \n",
    "print(n)\n",
    "print(o)                      \n",
    "predictions.close()"
   ]
  },
  {
   "cell_type": "code",
   "execution_count": 129,
   "metadata": {
    "collapsed": false
   },
   "outputs": [
    {
     "name": "stdout",
     "output_type": "stream",
     "text": [
      "0\n",
      "0\n",
      "0\n"
     ]
    }
   ],
   "source": [
    "# Do not run, failed attempt\n",
    "return1 = set()\n",
    "count = 0\n",
    "for ic, i in mostPopular:\n",
    "    count += ic\n",
    "    return1.add(i)\n",
    "    if count > totalPurchases/1.6: break\n",
    "\n",
    "return2 = set()\n",
    "count = 0\n",
    "for ic, i in mostPopularU:\n",
    "    count += ic\n",
    "    return2.add(i)\n",
    "    if count > totalPurchases/125: break\n",
    "        \n",
    "predictions = open(\"predictions_Purchase.txt\", 'w')\n",
    "k=0\n",
    "n=0\n",
    "o=0\n",
    "for l in open(\"amazon_reviews_Electronics/pairs_Purchase.txt\"):\n",
    "    if l.startswith(\"reviewerID\"):\n",
    "        #header\n",
    "        predictions.write(l)\n",
    "        continue\n",
    "    u,i = l.strip().split('-')\n",
    "    numb=0\n",
    "    if u in uu and i in ii:\n",
    "        if uu[u]<=2 and ii[i]>=6:\n",
    "            predictions.write(u + '-' + i + \",1\\n\")\n",
    "        else:\n",
    "            predictions.write(u + '-' + i + \",0\\n\")\n",
    "    else:\n",
    "        if i in return1:\n",
    "            predictions.write(u + '-' + i + \",1\\n\")\n",
    "        else:\n",
    "            predictions.write(u + '-' + i + \",0\\n\")\n",
    "\n",
    "print(k)  \n",
    "print(n)\n",
    "print(o)                      \n",
    "predictions.close()"
   ]
  },
  {
   "cell_type": "code",
   "execution_count": 112,
   "metadata": {
    "collapsed": false
   },
   "outputs": [
    {
     "name": "stdout",
     "output_type": "stream",
     "text": [
      "40175\n",
      "33808\n",
      "26017\n"
     ]
    }
   ],
   "source": [
    "# Do not run, failed attempt\n",
    "return1 = set()\n",
    "count = 0\n",
    "for ic, i in mostPopular:\n",
    "    count += ic\n",
    "    return1.add(i)\n",
    "    if count > totalPurchases/1.6: break\n",
    "\n",
    "return2 = set()\n",
    "count = 0\n",
    "for ic, i in mostPopularU:\n",
    "    count += ic\n",
    "    return2.add(i)\n",
    "    if count > totalPurchases/125: break\n",
    "        \n",
    "predictions = open(\"predictions_Purchase.txt\", 'w')\n",
    "k=0\n",
    "n=0\n",
    "o=0\n",
    "for l in open(\"amazon_reviews_Electronics/pairs_Purchase.txt\"):\n",
    "    if l.startswith(\"reviewerID\"):\n",
    "        #header\n",
    "        predictions.write(l)\n",
    "        continue\n",
    "    u,i = l.strip().split('-')\n",
    "    num_of_common_cat=0\n",
    "    if i in icat and u in ucat:\n",
    "        this_item_cat = icat[i]\n",
    "        this_user_cat = ucat[u]\n",
    "        omega=0\n",
    "        for usrs in itms[i]:\n",
    "            for c in ucat[usrs]:\n",
    "                if c in ucat[u]:\n",
    "                    omega = omega+1\n",
    "                else:\n",
    "                    omega= omega-1\n",
    "        if omega >= 0:\n",
    "            predictions.write(u + '-' + i + \",1\\n\")\n",
    "            n=n+1\n",
    "        else:\n",
    "            predictions.write(u + '-' + i + \",0\\n\")\n",
    "            k=k+1\n",
    "    else:\n",
    "        o=o+1\n",
    "        if i in return1:\n",
    "            predictions.write(u + '-' + i + \",1\\n\")\n",
    "        elif u in return2:\n",
    "            predictions.write(u + '-' + i + \",1\\n\")\n",
    "        else:\n",
    "            predictions.write(u + '-' + i + \",0\\n\")\n",
    "\n",
    "print(k)  \n",
    "print(n)\n",
    "print(o)                      \n",
    "predictions.close()"
   ]
  },
  {
   "cell_type": "markdown",
   "metadata": {},
   "source": [
    "# Task 3"
   ]
  },
  {
   "cell_type": "code",
   "execution_count": 22,
   "metadata": {
    "collapsed": false
   },
   "outputs": [
    {
     "name": "stdout",
     "output_type": "stream",
     "text": [
      "3583\n",
      "1905.5\n",
      "0.531816913201\n"
     ]
    }
   ],
   "source": [
    "allHelpful = []\n",
    "userHelpful = defaultdict(list)\n",
    "itemHelpful = defaultdict(list)\n",
    "userHelpfuld = defaultdict(dict)\n",
    "itemHelpfuld = defaultdict(dict)\n",
    "textu = defaultdict(dict)\n",
    "texti = defaultdict(dict)\n",
    "score = defaultdict(dict)\n",
    "userOutOfs = defaultdict(dict)\n",
    "\n",
    "for l in readJson('amazon_reviews_Electronics/train.json'):\n",
    "    user,item = l['reviewerID'],l['asin']\n",
    "    allHelpful.append(l['helpful'])\n",
    "    textu[user][item] = len(l['reviewText'])\n",
    "    score[user][item] = l[\"overall\"]\n",
    "    a = l[\"helpful\"]\n",
    "    userOutOfs[user][item] = a['outOf']\n",
    "    userHelpfuld[user][item] = float(a['nHelpful'])/float(a['outOf'])\n",
    "\n",
    "\n",
    "a=[]    \n",
    "rt=0\n",
    "mama = defaultdict(int)\n",
    "mamnum = defaultdict(int)\n",
    "\n",
    "tlen = defaultdict(dict)\n",
    "rt = 0\n",
    "for u in userHelpfuld:\n",
    "    for i in userHelpfuld[u]:\n",
    "        mama[str(userOutOfs[u][i])] = mama[str(userOutOfs[u][i])] + userHelpfuld[u][i]\n",
    "        mamnum[str(userOutOfs[u][i])] = mamnum[str(userOutOfs[u][i])]+1\n",
    "        if userOutOfs[u][i]==2 and textu[u][i]<100:\n",
    "            rt = rt+1\n",
    "            tlen[u][i]=userHelpfuld[u][i]\n",
    "            \n",
    "print(rt)\n",
    "tlensum=0\n",
    "for gh in tlen:\n",
    "    tlensum=tlensum+sum(tlen[gh].values())\n",
    "print(tlensum)\n",
    "print(tlensum/rt)            \n",
    "lis=defaultdict(dict)            \n",
    "for mam in mama:\n",
    "    lis[mam]= mama[mam]/mamnum[mam]\n",
    "\n",
    "\n",
    "\n",
    "\n",
    "text = defaultdict(dict)\n",
    "userOutOf = defaultdict(dict)\n",
    "for l in readJson(\"amazon_reviews_Electronics/helpful.json\"):\n",
    "    use,ite = l['reviewerID'],l['asin']\n",
    "    userOutOf[use][ite] = l['outOf']\n",
    "    text[use][ite] = len(l['reviewText'])\n",
    "    \n",
    "predictions = open(\"predictions_Helpful.txt\", 'w')\n",
    "for l in open(\"amazon_reviews_Electronics/pairs_Helpful.txt\"):\n",
    "    boo = False \n",
    "    if l.startswith(\"reviewerID\"):\n",
    "    #header\n",
    "        predictions.write(l)\n",
    "        continue\n",
    "    u,i,outOf = l.strip().split('-')\n",
    "    outOf = int(outOf)\n",
    "    o = outOf\n",
    "    while boo == False:\n",
    "        if o==1:\n",
    "            boo = True\n",
    "            predictions.write(u + '-' + i + '-' + str(o) + ',' + str(1) + '\\n')\n",
    "        elif str(outOf) in lis:\n",
    "            boo = True\n",
    "            predictions.write(u + '-' + i + '-' + str(o) + ',' + str(outOf*lis[str(outOf)]) + '\\n')\n",
    "        outOf = outOf-1    \n",
    "predictions.close()\n"
   ]
  },
  {
   "cell_type": "markdown",
   "metadata": {},
   "source": [
    "## Grading and Evaluation"
   ]
  },
  {
   "cell_type": "markdown",
   "metadata": {},
   "source": [
    "You will be graded on the following aspects.\n",
    "\n",
    "* Your written report. This should describe the approaches you took to each of the 3 tasks. To obtain good performance, you should not need to invent new approaches (though you are more than welcome to) but rather you will be graded based on your decision to apply reasonable approaches to each of the given tasks. (**10pts** for each task)\n",
    "\n",
    "* Your ability to obtain a solution which outperforms the baselines on the unseen portion of the test data. Obtaining full marks requires a solution which is substantially better (at least several percent) than baseline performance. (**10pts** for each task)\n",
    "\n",
    "* Your ranking for each of the three tasks compared to other students in the class. (**5pts** for each task)\n",
    "\n",
    "* Obtain a solution which outperforms the baselines on the seen portion of the test data (the leaderboard). \n",
    "(**5pts** for each task)"
   ]
  },
  {
   "cell_type": "markdown",
   "metadata": {},
   "source": [
    "## Baselines"
   ]
  },
  {
   "cell_type": "markdown",
   "metadata": {},
   "source": [
    "Simple baselines have been provided for each of the 3 tasks. These are included in 'baselines.py' among the files above. These 3 baselines operate as follows:\n",
    "\n",
    "**Rating prediction** Returns the global average rating, or the user's average if you have seen them before in the training data.\n",
    "\n",
    "**Purchase prediction** Finds the most popular products that account for 50% of purchases in the training data. Return '1' whenever such a product is seen at test time, '0' otherwise.\n",
    "\n",
    "** Helpfulness prediction** Multiplies the number of votes by the global average helpfulness rate, or the user's rate if we saw this user in the training data.\n",
    "\n",
    "Running 'baseline.py' produces 3 files containing predicted outputs. Your submission files should have the same format."
   ]
  },
  {
   "cell_type": "markdown",
   "metadata": {},
   "source": [
    "## Dataset Citation"
   ]
  },
  {
   "cell_type": "markdown",
   "metadata": {},
   "source": [
    "**Image-based recommendations on styles and substitutes** J. McAuley, C. Targett, J. Shi, A. van den Hengel *SIGIR*, 2015\n",
    "\n",
    "**Inferring networks of substitutable and complementary products** J. McAuley, R. Pandey, J. Leskovec *Knowledge Discovery and Data Mining*, 2015"
   ]
  },
  {
   "cell_type": "markdown",
   "metadata": {},
   "source": [
    "-----------------"
   ]
  },
  {
   "cell_type": "code",
   "execution_count": null,
   "metadata": {
    "collapsed": false
   },
   "outputs": [],
   "source": [
    "# Code for setting the style of the notebook\n",
    "from IPython.core.display import HTML\n",
    "def css_styling():\n",
    "    styles = open(\"../theme/custom.css\", \"r\").read()\n",
    "    return HTML(styles)\n",
    "css_styling()"
   ]
  }
 ],
 "metadata": {
  "kernelspec": {
   "display_name": "Python 2",
   "language": "python",
   "name": "python2"
  },
  "language_info": {
   "codemirror_mode": {
    "name": "ipython",
    "version": 2
   },
   "file_extension": ".py",
   "mimetype": "text/x-python",
   "name": "python",
   "nbconvert_exporter": "python",
   "pygments_lexer": "ipython2",
   "version": "2.7.11"
  }
 },
 "nbformat": 4,
 "nbformat_minor": 0
}
